{
 "cells": [
  {
   "cell_type": "markdown",
   "id": "0916dc31-ae92-4664-b6d0-5aaa350638a5",
   "metadata": {},
   "source": [
    "# Data Science Tools and Ecosystem"
   ]
  },
  {
   "cell_type": "markdown",
   "id": "f11f552b-8017-43cb-9bc9-738b1a843b6e",
   "metadata": {},
   "source": [
    "## Author \n",
    "Jing Lei Guo"
   ]
  },
  {
   "cell_type": "markdown",
   "id": "2190661e-d2c4-400b-b4a8-eb8ef4f5ceea",
   "metadata": {},
   "source": [
    "In this notebook, Data Science Tools and Ecosystem are summarized."
   ]
  },
  {
   "cell_type": "markdown",
   "id": "283a3cfe-81e4-4419-bb57-661ac661d64f",
   "metadata": {},
   "source": [
    "**Objectives:**\n",
    "- List popular languages for Data Science\n",
    "- List popular libraries for Data Science\n",
    "- Create a table for Data Science tools"
   ]
  },
  {
   "cell_type": "markdown",
   "id": "1f8ca022-2814-4d1c-9363-41a45003bfe2",
   "metadata": {},
   "source": [
    "Some of the popular languages that Data Scientists use are:\n",
    "1. python\n",
    "2. java\n",
    "3. R"
   ]
  },
  {
   "cell_type": "markdown",
   "id": "59b360d5-cab3-49d8-b380-5511d134ee31",
   "metadata": {},
   "source": [
    "Some of the commonly used libraries used by Data Scientists include:\n",
    "1. Numpy\n",
    "2. Pandas\n",
    "3. SciPy"
   ]
  },
  {
   "cell_type": "markdown",
   "id": "d765afa9-3627-4783-9516-9f290d5b6778",
   "metadata": {},
   "source": [
    "|Data Science Tools|\n",
    "|------------------|\n",
    "| Jupyter Notebook |\n",
    "|     RStudio      |\n",
    "|  Apache Zeppelin |"
   ]
  },
  {
   "cell_type": "markdown",
   "id": "6980c2e9-f763-4b38-84db-929897143e5c",
   "metadata": {},
   "source": [
    "### Below are a few examples of evaluating arithmetic expressions in Python"
   ]
  },
  {
   "cell_type": "code",
   "execution_count": 4,
   "id": "56f164c7-b6b4-4b39-a2af-897f8f4cddae",
   "metadata": {
    "tags": []
   },
   "outputs": [
    {
     "data": {
      "text/plain": [
       "17"
      ]
     },
     "execution_count": 4,
     "metadata": {},
     "output_type": "execute_result"
    }
   ],
   "source": [
    "#This a simple arithmetic expression to mutiply then add integers\n",
    "(3*4)+5"
   ]
  },
  {
   "cell_type": "code",
   "execution_count": 5,
   "id": "d80f167e-ec15-4666-9821-68b9f4010bda",
   "metadata": {
    "tags": []
   },
   "outputs": [
    {
     "name": "stdout",
     "output_type": "stream",
     "text": [
      "3.3333333333333335\n"
     ]
    }
   ],
   "source": [
    "#This will convert 200 minutes to hours by diving by 60\n",
    "minutes = 200\n",
    "hours = minutes / 60\n",
    "print(hours)"
   ]
  },
  {
   "cell_type": "code",
   "execution_count": null,
   "id": "8a732043-263e-4b9c-a042-27b69a848cf1",
   "metadata": {},
   "outputs": [],
   "source": []
  }
 ],
 "metadata": {
  "kernelspec": {
   "display_name": "Python",
   "language": "python",
   "name": "conda-env-python-py"
  },
  "language_info": {
   "codemirror_mode": {
    "name": "ipython",
    "version": 3
   },
   "file_extension": ".py",
   "mimetype": "text/x-python",
   "name": "python",
   "nbconvert_exporter": "python",
   "pygments_lexer": "ipython3",
   "version": "3.7.12"
  }
 },
 "nbformat": 4,
 "nbformat_minor": 5
}
